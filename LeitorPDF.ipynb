{
  "nbformat": 4,
  "nbformat_minor": 0,
  "metadata": {
    "colab": {
      "provenance": [],
      "authorship_tag": "ABX9TyPxPrljs1Di8AogEKWhcuka",
      "include_colab_link": true
    },
    "kernelspec": {
      "name": "python3",
      "display_name": "Python 3"
    },
    "language_info": {
      "name": "python"
    }
  },
  "cells": [
    {
      "cell_type": "markdown",
      "metadata": {
        "id": "view-in-github",
        "colab_type": "text"
      },
      "source": [
        "<a href=\"https://colab.research.google.com/github/GustavinhoDantas/LeituraPDFpy/blob/main/LeitorPDF.ipynb\" target=\"_parent\"><img src=\"https://colab.research.google.com/assets/colab-badge.svg\" alt=\"Open In Colab\"/></a>"
      ]
    },
    {
      "cell_type": "markdown",
      "source": [
        "# **LEITOR DE PDF**\n",
        "A ideia é pegar o PDF e ler de maneira automatica, onde o valor lidro ira retornar como arquivo excel ou SQL"
      ],
      "metadata": {
        "id": "tlW3mOf-cmem"
      }
    },
    {
      "cell_type": "code",
      "source": [
        "!pip install pdfplumber pandas openpyxl"
      ],
      "metadata": {
        "colab": {
          "base_uri": "https://localhost:8080/"
        },
        "id": "KB2LiCgfe8Oq",
        "outputId": "b0372788-9048-406c-9f00-de279ce4a4f4"
      },
      "execution_count": 2,
      "outputs": [
        {
          "output_type": "stream",
          "name": "stdout",
          "text": [
            "Collecting pdfplumber\n",
            "  Downloading pdfplumber-0.11.6-py3-none-any.whl.metadata (42 kB)\n",
            "\u001b[?25l     \u001b[90m━━━━━━━━━━━━━━━━━━━━━━━━━━━━━━━━━━━━━━━━\u001b[0m \u001b[32m0.0/42.8 kB\u001b[0m \u001b[31m?\u001b[0m eta \u001b[36m-:--:--\u001b[0m\r\u001b[2K     \u001b[90m━━━━━━━━━━━━━━━━━━━━━━━━━━━━━━━━━━━━━━━━\u001b[0m \u001b[32m42.8/42.8 kB\u001b[0m \u001b[31m1.7 MB/s\u001b[0m eta \u001b[36m0:00:00\u001b[0m\n",
            "\u001b[?25hRequirement already satisfied: pandas in /usr/local/lib/python3.11/dist-packages (2.2.2)\n",
            "Requirement already satisfied: openpyxl in /usr/local/lib/python3.11/dist-packages (3.1.5)\n",
            "Collecting pdfminer.six==20250327 (from pdfplumber)\n",
            "  Downloading pdfminer_six-20250327-py3-none-any.whl.metadata (4.1 kB)\n",
            "Requirement already satisfied: Pillow>=9.1 in /usr/local/lib/python3.11/dist-packages (from pdfplumber) (11.2.1)\n",
            "Collecting pypdfium2>=4.18.0 (from pdfplumber)\n",
            "  Downloading pypdfium2-4.30.1-py3-none-manylinux_2_17_x86_64.manylinux2014_x86_64.whl.metadata (48 kB)\n",
            "\u001b[2K     \u001b[90m━━━━━━━━━━━━━━━━━━━━━━━━━━━━━━━━━━━━━━━━\u001b[0m \u001b[32m48.2/48.2 kB\u001b[0m \u001b[31m3.7 MB/s\u001b[0m eta \u001b[36m0:00:00\u001b[0m\n",
            "\u001b[?25hRequirement already satisfied: charset-normalizer>=2.0.0 in /usr/local/lib/python3.11/dist-packages (from pdfminer.six==20250327->pdfplumber) (3.4.2)\n",
            "Requirement already satisfied: cryptography>=36.0.0 in /usr/local/lib/python3.11/dist-packages (from pdfminer.six==20250327->pdfplumber) (43.0.3)\n",
            "Requirement already satisfied: numpy>=1.23.2 in /usr/local/lib/python3.11/dist-packages (from pandas) (2.0.2)\n",
            "Requirement already satisfied: python-dateutil>=2.8.2 in /usr/local/lib/python3.11/dist-packages (from pandas) (2.9.0.post0)\n",
            "Requirement already satisfied: pytz>=2020.1 in /usr/local/lib/python3.11/dist-packages (from pandas) (2025.2)\n",
            "Requirement already satisfied: tzdata>=2022.7 in /usr/local/lib/python3.11/dist-packages (from pandas) (2025.2)\n",
            "Requirement already satisfied: et-xmlfile in /usr/local/lib/python3.11/dist-packages (from openpyxl) (2.0.0)\n",
            "Requirement already satisfied: six>=1.5 in /usr/local/lib/python3.11/dist-packages (from python-dateutil>=2.8.2->pandas) (1.17.0)\n",
            "Requirement already satisfied: cffi>=1.12 in /usr/local/lib/python3.11/dist-packages (from cryptography>=36.0.0->pdfminer.six==20250327->pdfplumber) (1.17.1)\n",
            "Requirement already satisfied: pycparser in /usr/local/lib/python3.11/dist-packages (from cffi>=1.12->cryptography>=36.0.0->pdfminer.six==20250327->pdfplumber) (2.22)\n",
            "Downloading pdfplumber-0.11.6-py3-none-any.whl (60 kB)\n",
            "\u001b[2K   \u001b[90m━━━━━━━━━━━━━━━━━━━━━━━━━━━━━━━━━━━━━━━━\u001b[0m \u001b[32m60.2/60.2 kB\u001b[0m \u001b[31m5.0 MB/s\u001b[0m eta \u001b[36m0:00:00\u001b[0m\n",
            "\u001b[?25hDownloading pdfminer_six-20250327-py3-none-any.whl (5.6 MB)\n",
            "\u001b[2K   \u001b[90m━━━━━━━━━━━━━━━━━━━━━━━━━━━━━━━━━━━━━━━━\u001b[0m \u001b[32m5.6/5.6 MB\u001b[0m \u001b[31m45.4 MB/s\u001b[0m eta \u001b[36m0:00:00\u001b[0m\n",
            "\u001b[?25hDownloading pypdfium2-4.30.1-py3-none-manylinux_2_17_x86_64.manylinux2014_x86_64.whl (2.9 MB)\n",
            "\u001b[2K   \u001b[90m━━━━━━━━━━━━━━━━━━━━━━━━━━━━━━━━━━━━━━━━\u001b[0m \u001b[32m2.9/2.9 MB\u001b[0m \u001b[31m86.2 MB/s\u001b[0m eta \u001b[36m0:00:00\u001b[0m\n",
            "\u001b[?25hInstalling collected packages: pypdfium2, pdfminer.six, pdfplumber\n",
            "Successfully installed pdfminer.six-20250327 pdfplumber-0.11.6 pypdfium2-4.30.1\n"
          ]
        }
      ]
    },
    {
      "cell_type": "code",
      "execution_count": 9,
      "metadata": {
        "colab": {
          "base_uri": "https://localhost:8080/"
        },
        "id": "gkcVLCALcRa3",
        "outputId": "d1aa8650-8df8-45b0-eb71-cb1f9a7362b8"
      },
      "outputs": [
        {
          "output_type": "stream",
          "name": "stdout",
          "text": [
            "Dados extraídos e salvos no Excel!\n"
          ]
        }
      ],
      "source": [
        "import pdfplumber\n",
        "import re\n",
        "import pandas as pd\n",
        "\n",
        "# Lista para armazenar os dicionários dos dados extraídos\n",
        "dados = []\n",
        "\n",
        "# Função que extrai o valor de um campo no formato \"Campo.......: valor\"\n",
        "def extrair_valor(campo, texto):\n",
        "    # regex para capturar depois do \"campo\" até quebra de linha ou próximo campo\n",
        "    if campo == 'Placa.......':\n",
        "      pattern = re.compile(rf'{re.escape(campo)}\\.*:\\s*(.{7})')  # Pega 7 caracteres após o campo\n",
        "      match = pattern.search(texto)\n",
        "      if match:\n",
        "        return match.group(1).strip()\n",
        "\n",
        "    if campo == 'Marca':\n",
        "        pattern = re.compile(rf'{re.escape(campo)}\\.*:\\s*([^A]*)')  # Pega até o primeiro 'A'\n",
        "        match = pattern.search(texto)\n",
        "        if match:\n",
        "            return match.group(1).strip()\n",
        "\n",
        "    # Caso não seja Placa nem Marca, aplica o padrão normal\n",
        "    pattern = re.compile(rf'{re.escape(campo)}\\.*:\\s*(.*)')\n",
        "    match = pattern.search(texto)\n",
        "    if match:\n",
        "        return match.group(1).strip()\n",
        "\n",
        "    return ''\n",
        "\n",
        "\n",
        "with pdfplumber.open('/content/Leo_Teste_PDF.pdf') as pdf:\n",
        "    texto_completo = ''\n",
        "    for pagina in pdf.pages:\n",
        "        texto_completo += pagina.extract_text() + '\\n'\n",
        "\n",
        "    # Quebra o texto em blocos usando a linha cheia de pontos\n",
        "    blocos = re.split(r'\\n\\.{10,}\\n', texto_completo)\n",
        "\n",
        "    for bloco in blocos:\n",
        "        # Só processar blocos que tem \"Placa.......:\"\n",
        "        if 'Placa.......:' in bloco:\n",
        "            # Extrai os campos desejados de forma simples\n",
        "            placa = extrair_valor('Placa.......', bloco)\n",
        "            marca = extrair_valor('Marca', bloco)\n",
        "            proprietario = extrair_valor('Proprietário Atual', bloco)\n",
        "            telefone_resp = extrair_valor('Telefone Responsável', bloco)\n",
        "            origem = extrair_valor('Origem', bloco)\n",
        "            destinatario = extrair_valor('Destinatário', bloco)\n",
        "            chassi = extrair_valor('Chassi', bloco)\n",
        "            ano_fabricado = extrair_valor('Ano Fabricado', bloco)\n",
        "            ano_modelo = extrair_valor('Ano Modelo', bloco)\n",
        "            telefone_comercial = extrair_valor('Telefone Comercial', bloco)\n",
        "            exercicio = extrair_valor('Exercício', bloco)\n",
        "            renavam = extrair_valor('Renavam', bloco)\n",
        "            telefone_celular = extrair_valor('Telefone Celular', bloco)\n",
        "\n",
        "            dados.append({\n",
        "                'PLACA': placa,\n",
        "                'MARCA': marca,\n",
        "                'PROPRIETÁRIO ATUAL': proprietario,\n",
        "                'TELEFONE RESPONSÁVEL': telefone_resp,\n",
        "                'ORIGEM': origem,\n",
        "                'DESTINATÁRIO': destinatario,\n",
        "                'CHASSI': chassi,\n",
        "                'ANO FABRICADO': ano_fabricado,\n",
        "                'ANO MODELO': ano_modelo,\n",
        "                'TELEFONE COMERCIAL': telefone_comercial,\n",
        "                'EXERCÍCIO': exercicio,\n",
        "                'RENAVAM': renavam,\n",
        "                'TELEFONE CELULAR': telefone_celular\n",
        "            })\n",
        "\n",
        "# Transforma em DataFrame e salva\n",
        "df = pd.DataFrame(dados)\n",
        "df.to_excel('dados_extraidos.xlsx', index=False)\n",
        "print('Dados extraídos e salvos no Excel!')\n"
      ]
    }
  ]
}