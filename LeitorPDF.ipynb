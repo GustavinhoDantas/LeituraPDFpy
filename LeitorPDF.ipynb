{
  "nbformat": 4,
  "nbformat_minor": 0,
  "metadata": {
    "colab": {
      "provenance": [],
      "include_colab_link": true
    },
    "kernelspec": {
      "name": "python3",
      "display_name": "Python 3"
    },
    "language_info": {
      "name": "python"
    }
  },
  "cells": [
    {
      "cell_type": "markdown",
      "metadata": {
        "id": "view-in-github",
        "colab_type": "text"
      },
      "source": [
        "<a href=\"https://colab.research.google.com/github/GustavinhoDantas/LeituraPDFpy/blob/main/LeitorPDF.ipynb\" target=\"_parent\"><img src=\"https://colab.research.google.com/assets/colab-badge.svg\" alt=\"Open In Colab\"/></a>"
      ]
    },
    {
      "cell_type": "markdown",
      "source": [
        "# **LEITOR DE PDF**\n",
        "A ideia é pegar o PDF e ler de maneira automatica, onde o valor lidro ira retornar como arquivo excel ou SQL"
      ],
      "metadata": {
        "id": "tlW3mOf-cmem"
      }
    },
    {
      "cell_type": "code",
      "source": [
        "\n",
        "!pip install pdfplumber pandas openpyxl"
      ],
      "metadata": {
        "colab": {
          "base_uri": "https://localhost:8080/"
        },
        "collapsed": true,
        "id": "KB2LiCgfe8Oq",
        "outputId": "e62daa50-df1d-4b79-afba-6e30d1ca6352"
      },
      "execution_count": 1,
      "outputs": [
        {
          "output_type": "stream",
          "name": "stdout",
          "text": [
            "Collecting pdfplumber\n",
            "  Downloading pdfplumber-0.11.7-py3-none-any.whl.metadata (42 kB)\n",
            "\u001b[?25l     \u001b[90m━━━━━━━━━━━━━━━━━━━━━━━━━━━━━━━━━━━━━━━━\u001b[0m \u001b[32m0.0/42.8 kB\u001b[0m \u001b[31m?\u001b[0m eta \u001b[36m-:--:--\u001b[0m\r\u001b[2K     \u001b[90m━━━━━━━━━━━━━━━━━━━━━━━━━━━━━━━━━━━━━━━━\u001b[0m \u001b[32m42.8/42.8 kB\u001b[0m \u001b[31m2.2 MB/s\u001b[0m eta \u001b[36m0:00:00\u001b[0m\n",
            "\u001b[?25hRequirement already satisfied: pandas in /usr/local/lib/python3.11/dist-packages (2.2.2)\n",
            "Requirement already satisfied: openpyxl in /usr/local/lib/python3.11/dist-packages (3.1.5)\n",
            "Collecting pdfminer.six==20250506 (from pdfplumber)\n",
            "  Downloading pdfminer_six-20250506-py3-none-any.whl.metadata (4.2 kB)\n",
            "Requirement already satisfied: Pillow>=9.1 in /usr/local/lib/python3.11/dist-packages (from pdfplumber) (11.2.1)\n",
            "Collecting pypdfium2>=4.18.0 (from pdfplumber)\n",
            "  Downloading pypdfium2-4.30.1-py3-none-manylinux_2_17_x86_64.manylinux2014_x86_64.whl.metadata (48 kB)\n",
            "\u001b[2K     \u001b[90m━━━━━━━━━━━━━━━━━━━━━━━━━━━━━━━━━━━━━━━━\u001b[0m \u001b[32m48.2/48.2 kB\u001b[0m \u001b[31m1.3 MB/s\u001b[0m eta \u001b[36m0:00:00\u001b[0m\n",
            "\u001b[?25hRequirement already satisfied: charset-normalizer>=2.0.0 in /usr/local/lib/python3.11/dist-packages (from pdfminer.six==20250506->pdfplumber) (3.4.2)\n",
            "Requirement already satisfied: cryptography>=36.0.0 in /usr/local/lib/python3.11/dist-packages (from pdfminer.six==20250506->pdfplumber) (43.0.3)\n",
            "Requirement already satisfied: numpy>=1.23.2 in /usr/local/lib/python3.11/dist-packages (from pandas) (2.0.2)\n",
            "Requirement already satisfied: python-dateutil>=2.8.2 in /usr/local/lib/python3.11/dist-packages (from pandas) (2.9.0.post0)\n",
            "Requirement already satisfied: pytz>=2020.1 in /usr/local/lib/python3.11/dist-packages (from pandas) (2025.2)\n",
            "Requirement already satisfied: tzdata>=2022.7 in /usr/local/lib/python3.11/dist-packages (from pandas) (2025.2)\n",
            "Requirement already satisfied: et-xmlfile in /usr/local/lib/python3.11/dist-packages (from openpyxl) (2.0.0)\n",
            "Requirement already satisfied: six>=1.5 in /usr/local/lib/python3.11/dist-packages (from python-dateutil>=2.8.2->pandas) (1.17.0)\n",
            "Requirement already satisfied: cffi>=1.12 in /usr/local/lib/python3.11/dist-packages (from cryptography>=36.0.0->pdfminer.six==20250506->pdfplumber) (1.17.1)\n",
            "Requirement already satisfied: pycparser in /usr/local/lib/python3.11/dist-packages (from cffi>=1.12->cryptography>=36.0.0->pdfminer.six==20250506->pdfplumber) (2.22)\n",
            "Downloading pdfplumber-0.11.7-py3-none-any.whl (60 kB)\n",
            "\u001b[2K   \u001b[90m━━━━━━━━━━━━━━━━━━━━━━━━━━━━━━━━━━━━━━━━\u001b[0m \u001b[32m60.0/60.0 kB\u001b[0m \u001b[31m3.4 MB/s\u001b[0m eta \u001b[36m0:00:00\u001b[0m\n",
            "\u001b[?25hDownloading pdfminer_six-20250506-py3-none-any.whl (5.6 MB)\n",
            "\u001b[2K   \u001b[90m━━━━━━━━━━━━━━━━━━━━━━━━━━━━━━━━━━━━━━━━\u001b[0m \u001b[32m5.6/5.6 MB\u001b[0m \u001b[31m47.0 MB/s\u001b[0m eta \u001b[36m0:00:00\u001b[0m\n",
            "\u001b[?25hDownloading pypdfium2-4.30.1-py3-none-manylinux_2_17_x86_64.manylinux2014_x86_64.whl (2.9 MB)\n",
            "\u001b[2K   \u001b[90m━━━━━━━━━━━━━━━━━━━━━━━━━━━━━━━━━━━━━━━━\u001b[0m \u001b[32m2.9/2.9 MB\u001b[0m \u001b[31m63.6 MB/s\u001b[0m eta \u001b[36m0:00:00\u001b[0m\n",
            "\u001b[?25hInstalling collected packages: pypdfium2, pdfminer.six, pdfplumber\n",
            "Successfully installed pdfminer.six-20250506 pdfplumber-0.11.7 pypdfium2-4.30.1\n"
          ]
        }
      ]
    },
    {
      "cell_type": "code",
      "execution_count": 56,
      "metadata": {
        "colab": {
          "base_uri": "https://localhost:8080/"
        },
        "id": "gkcVLCALcRa3",
        "outputId": "9988d691-dc4b-4084-d936-727c4376e9f9"
      },
      "outputs": [
        {
          "output_type": "stream",
          "name": "stdout",
          "text": [
            "Dados extraídos e salvos no Excel!\n"
          ]
        }
      ],
      "source": [
        "from os import replace\n",
        "import pdfplumber\n",
        "import re\n",
        "import pandas as pd\n",
        "\n",
        "# Lista para armazenar os dicionários dos dados extraídos\n",
        "dados = []\n",
        "\n",
        "# Função para formatação dos números\n",
        "def format_nmr(nmr):\n",
        "  if nmr != '':\n",
        "    nmr = '(' + nmr[:2] + ')' + nmr[2:]\n",
        "  return nmr\n",
        "\n",
        "with pdfplumber.open('/content/Leo_Teste_PDF.pdf') as pdf:\n",
        "    texto_completo = ''\n",
        "    for pagina in pdf.pages:\n",
        "        texto_completo += pagina.extract_text() + '\\n'\n",
        "\n",
        "    # Quebra o texto em blocos usando a linha cheia de pontos\n",
        "    blocos = re.split(r'\\n\\.{10,}\\n', texto_completo)\n",
        "\n",
        "\n",
        "    for bloco in blocos:\n",
        "     if 'Placa.......:' in bloco:\n",
        "        # Tratamento especial para a Placa\n",
        "        match = re.search(r'Placa\\.*:\\s*(.{7})', bloco)\n",
        "        placa = match.group(1).strip() if match else ''\n",
        "\n",
        "        # Tratamento especial para a Marca\n",
        "        match = re.search(r'Marca\\.*:\\s*(.*)', bloco)\n",
        "        marca = match.group(1).strip() if match else ''\n",
        "        marca = re.sub(r'Ano Fab/Mod:.*', \"\", marca)\n",
        "\n",
        "        # Tratamento especial para a Proprietário\n",
        "        match = re.search(r'Prop. Atual\\.*:\\s*(.*)', bloco)\n",
        "        proprietario = match.group(1).strip() if match else ''\n",
        "\n",
        "        # Extrair telefones, só os 11 primeiros números\n",
        "        match = re.search(r'Fone Res\\.*:\\s*(.{13})', bloco)\n",
        "        telefone_res = ''.join(filter(str.isdigit, match.group(1)))[:11] if match else ''\n",
        "        telefone_res = format_nmr(telefone_res)\n",
        "\n",
        "        match = re.search(r'Fone Com\\.*:\\s*(.{13})', bloco)\n",
        "        telefone_com = ''.join(filter(str.isdigit, match.group(1)))[:11] if match else ''\n",
        "        telefone_com = format_nmr(telefone_com)\n",
        "\n",
        "        match = re.search(r'Fone Cel\\.*:\\s*(.{13})', bloco)\n",
        "        telefone_cel = ''.join(filter(str.isdigit, match.group(1)))[:11] if match else ''\n",
        "        telefone_cel = format_nmr(telefone_cel)\n",
        "\n",
        "        # Extrair origem sendo ele a linha toda da leitura\n",
        "        match = re.search(r'Origem\\.*:\\s*(.*)', bloco)\n",
        "        origem = match.group(1).strip() if match else ''\n",
        "        if origem == 'Destinatário:':\n",
        "          origem = ''\n",
        "\n",
        "        numero_origem = re.sub(r'\\D+', \"\", origem)\n",
        "\n",
        "        # Extrair exercicios, sendo ele sempre quatro digitos após :\n",
        "        match = re.search(r'Exer:\\s*(.{4})', bloco)\n",
        "        exercicio = match.group(1).strip() if match else ''\n",
        "        if exercicio == 'Prop. Atual':\n",
        "          exercicio = ''\n",
        "\n",
        "        dados.append({\n",
        "            'PLACA': placa,\n",
        "            'MARCA': marca,\n",
        "            'ORIGEM': origem,\n",
        "            'NÚMERO DA ORIGEM': numero_origem,\n",
        "            'PROPRIETÁRIO ATUAL': proprietario,\n",
        "            'TELEFONE RESPONSÁVEL': telefone_res,\n",
        "            'TELEFONE CELULAR': telefone_cel,\n",
        "            'TELEFONE COMERCIAL': telefone_com,\n",
        "            'EXERCÍCIO': exercicio,\n",
        "        })\n",
        "# Transforma em DataFrame e salva\n",
        "df = pd.DataFrame(dados)\n",
        "df.to_excel('Leitor_GL_1ponto0.xlsx', index=False)\n",
        "print('Dados extraídos e salvos no Excel!')"
      ]
    },
    {
      "cell_type": "markdown",
      "source": [
        "# MELHORIAS\n",
        "*   interromper ciclo caso PDF corrompido\n",
        "*   Item da lista\n",
        "\n",
        "\n"
      ],
      "metadata": {
        "id": "OXUWipxV6I28"
      }
    }
  ]
}